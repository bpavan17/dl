{
 "cells": [
  {
   "cell_type": "code",
   "execution_count": null,
   "id": "25462232",
   "metadata": {},
   "outputs": [],
   "source": [
    "import numpy as np\n",
    "import tensorflow as tf\n",
    "from tensorflow import keras\n",
    "\n",
    "# Load MNIST dataset\n",
    "mnist = keras.datasets.mnist\n",
    "(x_train, y_train), (x_test, y_test) = mnist.load_data()\n",
    "\n",
    "# Preprocess the data\n",
    "x_train = tf.keras.utils.normalize(x_train, axis=1)\n",
    "x_test = tf.keras.utils.normalize(x_test, axis=1)\n",
    "\n",
    "# Define the model\n",
    "model = keras.Sequential()\n",
    "model.add(keras.layers.Flatten(input_shape=(28, 28))) # Flatten layer to flatten the 2D image data into a 1D array\n",
    "model.add(keras.layers.Dense(128, activation='relu')) # First dense layer with 128 neurons and ReLU activation\n",
    "model.add(keras.layers.Dense(128, activation='relu')) # Second dense layer with 128 neurons and ReLU activation\n",
    "model.add(keras.layers.Dense(10, activation='softmax')) # Output layer with 10 neurons for 10 classes and softmax activation\n",
    "\n",
    "# Compile the model\n",
    "model.compile(optimizer='adam', loss='sparse_categorical_crossentropy', metrics=['accuracy'])\n",
    "\n",
    "# Train the model\n",
    "model.fit(x_train, y_train, epochs=10)\n",
    "\n",
    "# Evaluate the model\n",
    "val_loss, val_acc = model.evaluate(x_test, y_test)\n",
    "print(\"Loss:\", val_loss)\n",
    "print(\"Accuracy:\", val_acc)\n",
    "\n",
    "# Input an image for prediction\n",
    "while True:\n",
    "    custom_input = input('Enter the path to the image file (or type \"exit\" to quit): ')\n",
    "    if custom_input == 'exit':\n",
    "        break\n",
    "    try:\n",
    "        custom_input = np.array(keras.preprocessing.image.load_img(custom_input, target_size=(28, 28)))\n",
    "        custom_input = tf.keras.utils.normalize(custom_input, axis=1)\n",
    "        custom_input = custom_input.reshape(1, 28, 28)\n",
    "        prediction = model.predict(custom_input)\n",
    "        prediction_class = np.argmax(prediction[0])\n",
    "        print('The prediction is:', prediction_class)\n",
    "        break\n",
    "    except Exception as e:\n",
    "        print('Invalid input! Please try again.')\n"
   ]
  },
  {
   "cell_type": "code",
   "execution_count": null,
   "id": "58a13346",
   "metadata": {},
   "outputs": [],
   "source": []
  },
  {
   "cell_type": "code",
   "execution_count": null,
   "id": "aa02473a",
   "metadata": {},
   "outputs": [],
   "source": []
  },
  {
   "cell_type": "code",
   "execution_count": null,
   "id": "c6ffe6a8",
   "metadata": {},
   "outputs": [],
   "source": []
  },
  {
   "cell_type": "code",
   "execution_count": null,
   "id": "b41ada59",
   "metadata": {},
   "outputs": [],
   "source": []
  }
 ],
 "metadata": {
  "kernelspec": {
   "display_name": "Python 3 (ipykernel)",
   "language": "python",
   "name": "python3"
  },
  "language_info": {
   "codemirror_mode": {
    "name": "ipython",
    "version": 3
   },
   "file_extension": ".py",
   "mimetype": "text/x-python",
   "name": "python",
   "nbconvert_exporter": "python",
   "pygments_lexer": "ipython3",
   "version": "3.8.10"
  }
 },
 "nbformat": 4,
 "nbformat_minor": 5
}
