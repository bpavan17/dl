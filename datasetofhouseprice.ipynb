{
 "cells": [
  {
   "cell_type": "code",
   "execution_count": 1,
   "id": "bf190c00",
   "metadata": {},
   "outputs": [],
   "source": [
    "import csv\n",
    "\n",
    "# Define the features and labels for the dataset\n",
    "features = ['square_feet', 'bedrooms', 'bathrooms']\n",
    "labels = ['price']\n",
    "\n",
    "# Generate some sample data for the dataset\n",
    "data = [\n",
    "    [1500, 2, 1, 200000],\n",
    "    [2000, 3, 2, 300000],\n",
    "    [2500, 4, 3, 400000],\n",
    "    [3000, 5, 4, 500000],\n",
    "    [3500, 6, 5, 600000],\n",
    "]\n",
    "\n",
    "# Write the data to a CSV file\n",
    "with open('house_prices.csv', 'w', newline='') as csvfile:\n",
    "    writer = csv.writer(csvfile)\n",
    "    writer.writerow(features + labels)\n",
    "    for row in data:\n",
    "        writer.writerow(row[:-1] + [row[-1]])\n"
   ]
  },
  {
   "cell_type": "code",
   "execution_count": null,
   "id": "a482d19d",
   "metadata": {},
   "outputs": [],
   "source": []
  },
  {
   "cell_type": "code",
   "execution_count": null,
   "id": "ba1c0e10",
   "metadata": {},
   "outputs": [],
   "source": []
  }
 ],
 "metadata": {
  "kernelspec": {
   "display_name": "Python 3 (ipykernel)",
   "language": "python",
   "name": "python3"
  },
  "language_info": {
   "codemirror_mode": {
    "name": "ipython",
    "version": 3
   },
   "file_extension": ".py",
   "mimetype": "text/x-python",
   "name": "python",
   "nbconvert_exporter": "python",
   "pygments_lexer": "ipython3",
   "version": "3.8.10"
  }
 },
 "nbformat": 4,
 "nbformat_minor": 5
}
