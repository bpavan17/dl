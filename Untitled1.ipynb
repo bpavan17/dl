{
 "cells": [
  {
   "cell_type": "code",
   "execution_count": 10,
   "id": "d47342f7",
   "metadata": {},
   "outputs": [
    {
     "name": "stdout",
     "output_type": "stream",
     "text": [
      "   Actual  Predicted\n",
      "0  200000   200000.0\n",
      "1  300000   300000.0\n",
      "2  400000   400000.0\n",
      "3  500000   500000.0\n",
      "4  600000   600000.0\n"
     ]
    }
   ],
   "source": [
    "import pandas as pd\n",
    "from sklearn.linear_model import LinearRegression\n",
    "\n",
    "# Load the dataset from the CSV file\n",
    "data = pd.read_csv('house_prices.csv')\n",
    "\n",
    "# Extract the features and target variable from the dataset\n",
    "X = data[['square_feet', 'bedrooms', 'bathrooms']]\n",
    "y = data['price']\n",
    "\n",
    "# Train a linear regression model on the dataset\n",
    "model = LinearRegression()\n",
    "model.fit(X, y)\n",
    "\n",
    "# Make predictions on the test set\n",
    "predictions = model.predict(X)\n",
    "\n",
    "# Create a new DataFrame with the predicted values and the actual values\n",
    "results = pd.DataFrame({'Actual': y, 'Predicted': predictions})\n",
    "\n",
    "# Print the results\n",
    "print(results.head())\n"
   ]
  },
  {
   "cell_type": "code",
   "execution_count": null,
   "id": "7a657802",
   "metadata": {},
   "outputs": [],
   "source": []
  }
 ],
 "metadata": {
  "kernelspec": {
   "display_name": "Python 3 (ipykernel)",
   "language": "python",
   "name": "python3"
  },
  "language_info": {
   "codemirror_mode": {
    "name": "ipython",
    "version": 3
   },
   "file_extension": ".py",
   "mimetype": "text/x-python",
   "name": "python",
   "nbconvert_exporter": "python",
   "pygments_lexer": "ipython3",
   "version": "3.8.10"
  }
 },
 "nbformat": 4,
 "nbformat_minor": 5
}
